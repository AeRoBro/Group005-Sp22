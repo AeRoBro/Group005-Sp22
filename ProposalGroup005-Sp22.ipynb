 
	{
	 "cells": [
	  {
	   "cell_type": "markdown",
	   "metadata": {},
	   "source": [
	    "# COGS 118A- Project Proposal"
	   ]
	  },
	  {
	   "cell_type": "markdown",
	   "metadata": {},
	   "source": [
	   ]
	  },
	  {
	   "cell_type": "markdown",
	   "metadata": {},
	   "source": [
	   ]
	  },
	  {
	   "cell_type": "markdown",
	   "metadata": {},
	   "source": [
	    "# Names\n",
	    "\n",
	    "\n",
	    "- Hsi Chen\n",
	    "- Brandon Vazquez-Tellez\n",
	    "- Vicky Chou\n",
	    "- Adam Yoshinaga\n"
	   ]
	  },
	  {
	   "cell_type": "markdown",
	   "metadata": {},
	   "source": [
	    "# Abstract \n",
	    "When first looking at the data we wanted to be able to implement what we've learned in class. Knowing this we wanted to predict any type of actions, and were lucky enought to find data on app ratings, and with this our goal is to predict app ratings. The data represents ratings of apps in the google play store by looking at all unique apps and their respective rating. We will wrangle the data allowing us to ultimately use linear regression using ordinary least squares to predict ratings for apps. Performance will be measured using a test/cost function."
	   ]
	  },
	  {
	   "cell_type": "markdown",
	   "metadata": {},
	   "source": [
	    "# Background\n",
	    "\n",
	    "As our daily routines depend more on mobile apps, apps with high ratings can suggest different meanings like how entertaining apps are or how helpful they are in our lives. Certain apps may become more popular as users give higher ratings, and people are more willing to download and use apps with higher ratings. Different models have been used to predict app ratings, such as Random Forest Regressor or XGboost models used to predict Google Apps Rating in this dataset [1]. Such predictions take into account of areas like app category, price, content rating, number of installs, or reviews to see what features influence the ratings more. An area of ongoing research in machine learning is natural language processing, which is a field that uses algorithms for detecting words in sentences and interpreting the semantics behind the way the words were phrased. Natural language processing could potentially be used to analyze app ratings when considering users' reviews, but not much has actually been done to determine how good or how high of a rating the application deserves based on the pattern between the words used in reviews and the rating given [2]. Linear regression is one of the most popular and most widely used algorithms. Being one of the oldest techniques, we can also say that it is one of those algorithms which have been studied immensely to understand and implement. Hence you will find a million different implementations and names for Linear Regression [3]."
	   ]
	  },
	  {
	   "cell_type": "markdown",
	   "metadata": {},
	   "source": [
	    "# Problem Statement\n",
	    "\n",
	    "The problem we are solving is predicting an app's rating, which is quantifiable, measurable, and replicable, by analyzing which components of an app predict/impact its rating more accurately as well as to what degree. By figuring out these, we can understand the features that constitute to an app's success and hence eliminate aspects of an app that drag down its ratings. Predictions of app ratings are quantifiable and measurable as they are measured in a mathematical scale. It is replicable because we can calculate the ratings based on differences in an app's features. Some ML-relevant potential solutions are Ordinary Least Squares, one-hot encoding, data wrangling, linear regression, and other Python functions."
	   ]
	  },
	  {
	   "cell_type": "markdown",
	   "metadata": {},
	   "source": [
	    "# Data\n",
	    "\n",
	    "You should have a strong idea of what dataset(s) will be used to accomplish this project. \n",
	    "\n",
	    "If you know what (some) of the data you will use are please give the following infomration for each dataset\n",
	    "- Link: https://www.kaggle.com/code/jemseow/machine-learning-to-predict-app-ratings\n",
	    "- Size of the dataset: # of variables - 10; # of observations - 9660\n",
	    "- An observation consists of the app name and its category, rating, number of reviews, size, number of installs, trial type, price, content rating, and genres.\n",
	    "- Some critical variables are rating and reviews since they are directly related to people's opinions and ratings of the app. Ratings are represented through numbers on a scale of 1 to 19, and the number of reviews are represented through numbers ranging from 0 to 78.2m.\n",
	    "- One-hot encoding, data wrangling, and implementation of methods we have learned in this class will be needed.\n",
	    "\n",
	    "If you don't yet know what your dataset(s) will be, you should be able to describe what you desire in terms of the above bullets"
	   ]
	  },
	  {
	   "cell_type": "markdown",
	   "metadata": {},
	   "source": [
	    "# Proposed Solution\n",
	    "\n",
	    "The solution we will be implementing to reach our goal is ultimately using Ordinary Least Squares. In order to implement this we will have to follow distinct steps; creating a weight vector, in which we would have to calculate the optimum w that yields the minimum loss and taking the gradient. Something that will help us analyze the code is one-hot encoding, where we will have to transform categorical data to numerical to allow further analysis. After completing this, with other types of wrangling, we will implement linear regression creating a function that follows the mathematical computation. Some function calls that we will be implementing are numpy, pandas, seaborn, sklearn to compare different features that affect app ratings to ultimately see what variable has the highest correlation."
	   ]
	  },
	  {
	   "cell_type": "markdown",
	   "metadata": {},
	   "source": [
	    "# Evaluation Metrics\n",
	    "\n",
	    "Propose at least one evaluation metric that can be used to quantify the performance of both the benchmark model and the solution model. The evaluation metric(s) you propose should be appropriate given the context of the data, the problem statement, and the intended solution. Describe how the evaluation metric(s) are derived and provide an example of their mathematical representations (if applicable). Complex evaluation metrics should be clearly defined and quantifiable (can be expressed in mathematical or logical terms)."
	   ]
	  },
	  {
	   "cell_type": "markdown",
	   "metadata": {},
	   "source": [
	    "# Ethics & Privacy"
	   ]
	  },
	  {
	   "cell_type": "markdown",
	   "metadata": {},
	   "source": [
	    "It is important for us to gather accurate data by checking its accuracy and reliability. It is also important for us to make sure that the data can be acquired by the public and is permitted by the owner. We need to be neutral about the evaluations and rely on evidence instead of assumptions. As for people's reviews on the apps, we should keep them anonymous in order to protect their privacies. A tool that can help us address these potential issues is https://deon.drivendata.org."
	   ]
	  },
	  {
	   "cell_type": "markdown",
	   "metadata": {},
	   "source": [
	    "# Team Expectations "
	   ]
	  },
	  {
	   "cell_type": "markdown",
	   "metadata": {},
	   "source": [
	    "* *Be responsible and complete individual tasks on time.*\n",
	    "* *Show up to group meetings/calls.*\n",
	    "* *Respond to groupchat messages.*\n",
	    "* *Respect each other.*\n",
	    "* *Ask for help when stuck on individual parts.*\n",
	    "* *Help each other when in need.*\n"
	   ]
	  },
	  {
	   "cell_type": "markdown",
	   "metadata": {},
	   "source": [
	    "# Project Timeline Proposal"
	   ]
	  },
	  {
	   "cell_type": "markdown",
	   "metadata": {},
	   "source": [
	    "\n",
	    "| Meeting Date  | Meeting Time| Completed Before Meeting  | Discuss at Meeting |\n",
	    "|---|---|---|---|\n",
	    "| 4/20  |  12 PM |  Brainstorm topics/questions (all)  | Come up with ideas and finalize project topic | \n",
	    "| 4/22  |  4 PM |  Do background research on topic (Vicky) | Discuss ideal dataset(s) and ethics; draft project proposal | \n",
	    "| 4/24  | 4 PM  | Edit, finalize, and submit proposal (Hsi); Search for datasets (Brandon)  | Discuss Wrangling and possible analytical approaches; Assign group members to lead each specific part   |\n",
	    "| 4/28  | 4 PM  | Import & Wrangle Data ,do some EDA (Adam, Vicky) | Review/Edit wrangling/EDA; Discuss Analysis Plan   |\n",
	    "| 5/08  | 4 PM  | Finalize wrangling/EDA; Begin programming for project (Hsi, Brandon) | Discuss/edit project code; Complete project |\n",
	    "| 5/13  | 4 PM  | Complete analysis; Draft results/conclusion/discussion (all)| Discuss/edit full project |\n",
	    "| 6/8  | Before 11:59 PM  | NA | Turn in Final Project  |"
	   ]
	  },
	  {
	   "cell_type": "markdown",
	   "metadata": {},
	   "source": [
	    "# Footnotes\n",
	    "<a name=\"houdnote\"></a>1.[^](#houd): Houd, Anass El (19 Sept 2020) DS Project: How to Predict Google Apps Rating? *Towards Data Science*. https://towardsdatascience.com/ds-project-how-to-predict-google-apps-rating-618ebc77cad<br> \n",
    "<a name=\"lutkevichnote\"></a>2.[^](#lutkevich): Lutkevich, Ben (Mar 2021) What is Natural Language Processing? An Introduction to NLP *Tech Target*. https://www.techtarget.com/searchenterpriseai/definition/natural-language-processing-NLP#:~:text=Natural%20language%20processing%20(NLP)%20is,in%20the%20field%20of%20linguistics<br>\n",
    "<a name=\"pandeynote\"></a>3.[^](#pandey): Pandey, Pranjal (7 Sept 2021) Machine Learning: Linear Regression and its applications *The Data Science Portal*. https://thedatascienceportal.com/posts/linear-regression-and-its-applications/\n"
]
	  },
	  {
	   "cell_type": "code",
	   "execution_count": null,
	   "metadata": {},
	   "outputs": [],
	   "source": []
	  }
	 ],
	 "metadata": {
	  "kernelspec": {
	   "display_name": "Python 3",
	   "language": "python",
	   "name": "python3"
	  },
	  "language_info": {
	   "codemirror_mode": {
	    "name": "ipython",
	    "version": 3
	   },
	   "file_extension": ".py",
	   "mimetype": "text/x-python",
	   "name": "python",
	   "nbconvert_exporter": "python",
	   "pygments_lexer": "ipython3",
	   "version": "3.7.1"
	  }
	 },
	 "nbformat": 4,
	 "nbformat_minor": 2
	}

